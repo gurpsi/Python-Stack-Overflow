{
 "cells": [
  {
   "cell_type": "code",
   "execution_count": 1,
   "metadata": {},
   "outputs": [],
   "source": [
    "duplicate_tuples = [(0, 2), (3, 2)]  # desired output"
   ]
  },
  {
   "cell_type": "code",
   "execution_count": 2,
   "metadata": {},
   "outputs": [],
   "source": [
    "import numpy as np\n",
    "foo = np.array([(0, 2), (1, 0), (2, 1), (3, 2),(3,0)])"
   ]
  },
  {
   "cell_type": "code",
   "execution_count": 3,
   "metadata": {},
   "outputs": [
    {
     "data": {
      "text/plain": [
       "[(0, array([[1, 0],\n",
       "         [3, 0]])), (2, array([[0, 2],\n",
       "         [3, 2]]))]"
      ]
     },
     "execution_count": 3,
     "metadata": {},
     "output_type": "execute_result"
    }
   ],
   "source": [
    "# One Way Liked\n",
    "unique_vals,inverse_indices,counts=np.unique(foo[:,1],return_inverse=True,return_counts=True) \n",
    "duplicates=[(i,foo[inverse_indices==i]) for i  in unique_vals[np.where(counts>1)[0]]]\n",
    "duplicates"
   ]
  },
  {
   "cell_type": "code",
   "execution_count": 4,
   "metadata": {},
   "outputs": [
    {
     "data": {
      "text/plain": [
       "[[[1, 0], [3, 0]], [[0, 2], [3, 2], [1, 2]]]"
      ]
     },
     "execution_count": 4,
     "metadata": {},
     "output_type": "execute_result"
    }
   ],
   "source": [
    "# Second Way\n",
    "duplicate_list = []\n",
    "foo = np.array([(0,2), (1,0), (2,1), (3,2), (3,0), (1,2)])\n",
    "for i in range(len(np.unique(foo[:,1]))):\n",
    "    if np.sum(foo[:,1] == i) > 1:\n",
    "        duplicate_list.append(foo[foo[:,1] == i].tolist())\n",
    "duplicate_list"
   ]
  },
  {
   "cell_type": "code",
   "execution_count": 5,
   "metadata": {},
   "outputs": [],
   "source": [
    "bla = np.array([(0, 2), (1, 0), (2, 1), (3, 2)])"
   ]
  },
  {
   "cell_type": "code",
   "execution_count": 6,
   "metadata": {},
   "outputs": [
    {
     "name": "stdout",
     "output_type": "stream",
     "text": [
      "[[0, 2], [3, 2]]\n"
     ]
    }
   ],
   "source": [
    "# Third Way if just one specific number:\n",
    "duplicate = []\n",
    "if np.sum(bla[:,1] == 2) > 1:\n",
    "    duplicate = bla[bla[:,1] == 2].tolist()\n",
    "print(duplicate)"
   ]
  },
  {
   "cell_type": "code",
   "execution_count": null,
   "metadata": {},
   "outputs": [],
   "source": []
  }
 ],
 "metadata": {
  "kernelspec": {
   "display_name": "Python 3",
   "language": "python",
   "name": "python3"
  },
  "language_info": {
   "codemirror_mode": {
    "name": "ipython",
    "version": 3
   },
   "file_extension": ".py",
   "mimetype": "text/x-python",
   "name": "python",
   "nbconvert_exporter": "python",
   "pygments_lexer": "ipython3",
   "version": "3.6.5"
  }
 },
 "nbformat": 4,
 "nbformat_minor": 2
}
